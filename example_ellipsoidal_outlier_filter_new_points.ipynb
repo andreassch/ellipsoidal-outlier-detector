{
 "cells": [
  {
   "cell_type": "markdown",
   "metadata": {},
   "source": [
    "# Filter based on a subset of the points\n",
    "\n",
    "This notebook shows an example of how to filer based on a subset of points.  \n",
    "\n",
    "I'll take a random subsample of the filter points and use those points to generate a sequence of ellipses with decreasing volume.  Then I'll use those ellipses to filter the other data, which wasn't used to generate the ellipses. "
   ]
  },
  {
   "cell_type": "code",
   "execution_count": 1,
   "metadata": {
    "collapsed": true
   },
   "outputs": [],
   "source": [
    "%matplotlib inline\n",
    "\n",
    "# Future \n",
    "from __future__ import print_function\n",
    "\n",
    "# Numpy imports \n",
    "import numpy as np\n",
    "import numpy.random as random\n",
    "\n",
    "import scipy as sp\n",
    "import scipy.linalg as la\n",
    "\n",
    "\n",
    "# Import matplotlib.pyplot\n",
    "import matplotlib.pyplot as plt\n",
    "from mpl_toolkits.mplot3d import Axes3D\n",
    "\n",
    "# My imports \n",
    "from ellipsoidal_outlier_detector import (\n",
    "    EllipsoidSolver, get_outliers, get_total_partition, get_filter_index)\n",
    "\n",
    "\n",
    "\n",
    "EPS = sp.finfo(float).eps"
   ]
  },
  {
   "cell_type": "markdown",
   "metadata": {},
   "source": [
    "# Generate example points\n",
    "\n",
    "I will generate Lots of points and then pick random sample of 10% or so of those points. "
   ]
  },
  {
   "cell_type": "code",
   "execution_count": 2,
   "metadata": {
    "collapsed": false
   },
   "outputs": [
    {
     "name": "stdout",
     "output_type": "stream",
     "text": [
      "Print some rough problem size estimates:\n",
      "d = 8\n",
      "M = 1000\n",
      "Na= 44\n",
      "\n",
      "d**2 = 64\n",
      "Na**2 = 1936\n",
      "\n",
      "Number of indexes choosen: 1000\n",
      "xarray.shape     = (80000, 8)\n",
      "xarray_fit.shape = (1000, 8)\n"
     ]
    }
   ],
   "source": [
    "# Generate random samples for testing the algorithm \n",
    "Mtotal = 80000      # Total number of samples\n",
    "M = 1000            # Number to use in fitting ellipses\n",
    "\n",
    "# Dimensions of the filter space and \n",
    "d = 8\n",
    "\n",
    "\n",
    "\n",
    "# Dimensions of the ellipsoid space\n",
    "Na = int(d * (d+1) / 2.0 + d)\n",
    "\n",
    "\n",
    "## Pick the elements to use in the fitting \n",
    "I_choice = random.choice(Mtotal, M, replace=False)\n",
    "bool_Ifit = sp.zeros((Mtotal,), dtype=bool)\n",
    "bool_Ifit[I_choice] = True\n",
    "\n",
    "\n",
    "\n",
    "## Define a sample of variables\n",
    "mean = np.array(d * [5.0,])\n",
    "cov = sp.eye(d) + 5.0\n",
    "\n",
    "## Generate a random sample\n",
    "xarray = random.multivariate_normal(mean, cov, Mtotal)\n",
    "\n",
    "### Add outliers as some percentage of points\n",
    "percent_outliers = 0.02    # 2% of points are outliers\n",
    "Noutliers = int(sp.floor(Mtotal * percent_outliers))\n",
    "xarray[:Noutliers, :] = random.laplace(5, scale =10.0001, size=(Noutliers, d))\n",
    "\n",
    "# Separate the data into the random sample used to fit ellipses\n",
    "xarray_fit = xarray[bool_Ifit, :]\n",
    "\n",
    "\n",
    "## Problem size estimates\n",
    "print(\"Print some rough problem size estimates:\")\n",
    "print(\"d = {0}\\nM = {1}\\nNa= {2}\".format(d, M, Na), end='\\n\\n')\n",
    "print(\"d**2 = {0}\".format(d**2))\n",
    "print(\"Na**2 = {0}\".format(Na**2), end=2*'\\n')\n",
    "\n",
    "print(\"Number of indexes choosen: {0}\".format(I_choice.size))\n",
    "print('xarray.shape     = {0}'.format(xarray.shape))\n",
    "print('xarray_fit.shape = {0}'.format(xarray_fit.shape))"
   ]
  },
  {
   "cell_type": "markdown",
   "metadata": {},
   "source": [
    "# Get the total partition using random subsample: `xarray_fit`\n",
    "\n",
    "This interface applies the get_outliers function until the number of samples in xarray is reduced by the factor alpha. The output the same as get_outliers but now there are sequences of the output parameters for each outlier detection step."
   ]
  },
  {
   "cell_type": "code",
   "execution_count": 3,
   "metadata": {
    "collapsed": false
   },
   "outputs": [],
   "source": [
    "## Do a partition until the number of points is reduced to half\n",
    "bool_Iin_list, bool_Iout_list, vols, As, bs = get_total_partition(xarray_fit, alpha=0.5)\n",
    "\n",
    "## Fine the filtrations of the \n",
    "bool_Iin_total_list = [get_filter_index(xarray, _A, _b) for _A, _b in zip(As, bs)]"
   ]
  },
  {
   "cell_type": "markdown",
   "metadata": {},
   "source": [
    "# How does the fraction of points decrease?"
   ]
  },
  {
   "cell_type": "code",
   "execution_count": 4,
   "metadata": {
    "collapsed": false
   },
   "outputs": [
    {
     "data": {
      "text/plain": [
       "<matplotlib.legend.Legend at 0x7fdf25300150>"
      ]
     },
     "execution_count": 4,
     "metadata": {},
     "output_type": "execute_result"
    },
    {
     "data": {
      "image/png": "[encoded data removed]",
      "text/plain": [
       "<matplotlib.figure.Figure at 0x7fdf236e7a90>"
      ]
     },
     "metadata": {},
     "output_type": "display_data"
    }
   ],
   "source": [
    "\n",
    "# Compute the number of points left for the fitting and total case\n",
    "Ms = sp.array([bool_Iin.sum() for bool_Iin in bool_Iin_list])\n",
    "Ms_ratio = Ms / float(Ms.max())\n",
    "\n",
    "Ms_total = sp.array([_bool_Iin_total.sum() for _bool_Iin_total in bool_Iin_total_list])\n",
    "Ms_total_ratio = Ms_total / float(Ms_total.max())\n",
    "\n",
    "\n",
    "\n",
    "\n",
    "## Plot\n",
    "fig = plt.figure(0, (8,5))\n",
    "ax = fig.add_subplot(1,1,1)\n",
    "\n",
    "\n",
    "\n",
    "ax.semilogy(Ms_ratio, vols, linewidth=1, marker='o', c='b', \n",
    "            label='fit points M_fit={0}'.format(M))\n",
    "ax.semilogy(Ms_total_ratio, vols, linewidth=2, marker='*', markersize=10, c='k', \n",
    "            label='all points M_total={0}'.format(Mtotal))\n",
    "\n",
    "ax.set_title(\"Ellipsoid volume vs. Number of points inside\", \n",
    "             fontweight='bold', fontsize='large')\n",
    "ax.set_ylabel(\"Ellipsoid Volume\")\n",
    "ax.set_xlabel(\"Fraction of points remaining\")\n",
    "ax.set_xbound(Ms_total_ratio.min(), Ms_total_ratio.max())\n",
    "ax.legend(loc='upper left')\n",
    "\n"
   ]
  },
  {
   "cell_type": "markdown",
   "metadata": {},
   "source": [
    "# New function for getting the filter index from (A, b)"
   ]
  },
  {
   "cell_type": "code",
   "execution_count": 5,
   "metadata": {
    "collapsed": false
   },
   "outputs": [
    {
     "name": "stdout",
     "output_type": "stream",
     "text": [
      "Help on function get_filter_index in module ellipsoidal_outlier_detector:\n",
      "\n",
      "get_filter_index(xarray_new, A, b)\n",
      "    Return an index array for selecting the point which are inside\n",
      "    the ellipse defined by (A, b).\n",
      "    \n",
      "    in \n",
      "    --\n",
      "    xarray_new    - (M', ndim)\n",
      "    A             - (ndim, ndim)\n",
      "    b             - (ndim,)\n",
      "    \n",
      "    out\n",
      "    ---\n",
      "    bool_In       - (M',) Index array for selecing points in the ellipse\n",
      "    \n",
      "    \n",
      "    * usage *\n",
      "    ---------\n",
      "    xarray[bool_Iin, :]     --->    gives the points inside the ellipse\n",
      "\n"
     ]
    }
   ],
   "source": [
    "help(get_filter_index)"
   ]
  },
  {
   "cell_type": "code",
   "execution_count": null,
   "metadata": {
    "collapsed": true
   },
   "outputs": [],
   "source": []
  },
  {
   "cell_type": "code",
   "execution_count": null,
   "metadata": {
    "collapsed": true
   },
   "outputs": [],
   "source": []
  },
  {
   "cell_type": "code",
   "execution_count": null,
   "metadata": {
    "collapsed": true
   },
   "outputs": [],
   "source": []
  },
  {
   "cell_type": "code",
   "execution_count": null,
   "metadata": {
    "collapsed": true
   },
   "outputs": [],
   "source": []
  },
  {
   "cell_type": "code",
   "execution_count": null,
   "metadata": {
    "collapsed": true
   },
   "outputs": [],
   "source": []
  },
  {
   "cell_type": "code",
   "execution_count": null,
   "metadata": {
    "collapsed": true
   },
   "outputs": [],
   "source": []
  },
  {
   "cell_type": "code",
   "execution_count": null,
   "metadata": {
    "collapsed": true
   },
   "outputs": [],
   "source": []
  },
  {
   "cell_type": "code",
   "execution_count": null,
   "metadata": {
    "collapsed": true
   },
   "outputs": [],
   "source": []
  },
  {
   "cell_type": "code",
   "execution_count": null,
   "metadata": {
    "collapsed": true
   },
   "outputs": [],
   "source": []
  },
  {
   "cell_type": "code",
   "execution_count": null,
   "metadata": {
    "collapsed": true
   },
   "outputs": [],
   "source": []
  }
 ],
 "metadata": {
  "kernelspec": {
   "display_name": "Python 2",
   "language": "python",
   "name": "python2"
  },
  "language_info": {
   "codemirror_mode": {
    "name": "ipython",
    "version": 2
   },
   "file_extension": ".py",
   "mimetype": "text/x-python",
   "name": "python",
   "nbconvert_exporter": "python",
   "pygments_lexer": "ipython2",
   "version": "2.7.11"
  }
 },
 "nbformat": 4,
 "nbformat_minor": 0
}
