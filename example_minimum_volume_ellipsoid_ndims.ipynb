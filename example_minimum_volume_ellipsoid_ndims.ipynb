{
 "cells": [
  {
   "cell_type": "markdown",
   "metadata": {},
   "source": [
    "# Minimum volume ellipsoid (outlier detection)\n",
    "\n"
   ]
  },
  {
   "cell_type": "code",
   "execution_count": 1,
   "metadata": {
    "collapsed": false
   },
   "outputs": [],
   "source": [
    "%matplotlib inline\n",
    "\n",
    "# Future \n",
    "from __future__ import print_function\n",
    "\n",
    "# Numpy imports \n",
    "import numpy as np\n",
    "import numpy.random as random\n",
    "\n",
    "import scipy as sp\n",
    "import scipy.linalg as la\n",
    "\n",
    "\n",
    "# Import matplotlib.pyplot\n",
    "import matplotlib.pyplot as plt\n",
    "from mpl_toolkits.mplot3d import Axes3D\n",
    "\n",
    "# My imports \n",
    "from ellipsoidal_outlier_detector import EllipsoidSolver\n",
    "\n",
    "\n",
    "\n",
    "EPS = sp.finfo(float).eps\n"
   ]
  },
  {
   "cell_type": "code",
   "execution_count": null,
   "metadata": {
    "collapsed": false
   },
   "outputs": [],
   "source": [
    "\n"
   ]
  },
  {
   "cell_type": "code",
   "execution_count": null,
   "metadata": {
    "collapsed": false
   },
   "outputs": [],
   "source": [
    "\n"
   ]
  },
  {
   "cell_type": "code",
   "execution_count": null,
   "metadata": {
    "collapsed": false
   },
   "outputs": [],
   "source": []
  },
  {
   "cell_type": "markdown",
   "metadata": {},
   "source": [
    "\n",
    "# 3D scatter plot example "
   ]
  },
  {
   "cell_type": "code",
   "execution_count": 2,
   "metadata": {
    "collapsed": false
   },
   "outputs": [
    {
     "name": "stdout",
     "output_type": "stream",
     "text": [
      "Print some rough problem size estimates:\n",
      "d = 3\n",
      "M = 500\n",
      "Na= 9\n",
      "\n",
      "d**2 = 9\n",
      "Na**2 = 81\n"
     ]
    },
    {
     "data": {
      "image/png": "[encoded data removed]",
      "text/plain": [
       "<matplotlib.figure.Figure at 0x7f4135ea3650>"
      ]
     },
     "metadata": {},
     "output_type": "display_data"
    }
   ],
   "source": [
    "# Generate random samples for testing the algorithm \n",
    "\n",
    "Ndim = 3\n",
    "Na = Ndim\n",
    "Nsamples = 500\n",
    "\n",
    "\n",
    "mean = np.array(Ndim * [5.0,])\n",
    "cov = sp.eye(Ndim) + 5.0\n",
    "\n",
    "samples = random.multivariate_normal(mean, cov, Nsamples)\n",
    "samples[:20] = random.laplace(5, scale =10.0001, size=(20, mean.size))\n",
    "#plt.plot(samples[:, 0], samples[:, 1], 'or', markersize=4)\n",
    "#plt.axis('equal')\n",
    "\n",
    "\n",
    "# Make a 3D figure\n",
    "fig = plt.figure(0)\n",
    "fig.clear()\n",
    "ax = fig.add_subplot(1,1,1, projection='3d')\n",
    "ax.scatter(samples[:,0], \n",
    "           samples[:,1],\n",
    "           samples[:,2], marker='.')\n",
    "\n",
    "## Problem size estimates\n",
    "print(\"Print some rough problem size estimates:\")\n",
    "\n",
    "d = Ndim\n",
    "M = Nsamples\n",
    "\n",
    "Na = int(d * (d+1) / 2.0 + d)\n",
    "\n",
    "print(\"d = {0}\\nM = {1}\\nNa= {2}\".format(d, M, Na), end='\\n\\n')\n",
    "print(\"d**2 = {0}\".format(d**2))\n",
    "print(\"Na**2 = {0}\".format(Na**2))"
   ]
  },
  {
   "cell_type": "code",
   "execution_count": 6,
   "metadata": {
    "collapsed": true
   },
   "outputs": [],
   "source": [
    "def get_partition(xarray, avec0=None, EllipsoidSolver=EllipsoidSolver):\n",
    "    \"\"\"\n",
    "    Compute the outliers and split them off\n",
    "  \n",
    "    Compute outliers in sequance for all points.\n",
    "    \n",
    "    in\n",
    "    --\n",
    "    xarray   - array shaped (M, d) for M samples of d-dimensional vecs\n",
    "    avec0    - Optional initial guess for the ellipse state vector \n",
    "\n",
    "\n",
    "    out\n",
    "    ---\n",
    "    xin      - samples inside the minimum ellipse \n",
    "    xout     - samples on the boundary of the ellipse\n",
    "    vol      - constand proportional to the volume (1.0 / det(A))\n",
    "    A        - Array defining the ellipse \n",
    "    b        - Vector defining the offset of ellipse \n",
    "    avec     - state vector for minimum volume ellipse \n",
    "    \n",
    "    \n",
    "    * Note *\n",
    "    Use the kwarg avec0 to initialize the ellipse optimization.  \n",
    "\n",
    "\n",
    "    \"\"\"\n",
    "    \n",
    "    # Define a solver for these filter vectors\n",
    "    esolver = EllipsoidSolver(xarray, a0=avec0)\n",
    "    \n",
    "    # Get the min. vol. ellipse containing all points \n",
    "    avec, vol, A, b = esolver.get_optimal_ellipse()\n",
    "    \n",
    "    # Plit the xarray into interior and boundary points\n",
    "    xin, xout = esolver.get_xinxout(A, b)\n",
    "    \n",
    "    return xin, xout, vol, A, b, avec\n",
    "    \n",
    "\n",
    "    \n",
    "    "
   ]
  },
  {
   "cell_type": "code",
   "execution_count": 8,
   "metadata": {
    "collapsed": false
   },
   "outputs": [
    {
     "name": "stdout",
     "output_type": "stream",
     "text": [
      "     pcost       dcost       gap    pres   dres\n",
      " 0:  0.0000e+00 -4.7988e+02  5e+02  1e+00  1e+00\n",
      " 1:  1.2695e+01  4.1141e+00  9e+00  1e-02  7e-02\n",
      " 2:  1.2301e+01  1.1810e+01  6e-01  1e-02  5e-02\n",
      " 3:  1.1617e+01  1.1598e+01  2e-01  2e-01  3e-02\n",
      " 4:  1.1638e+01  1.1613e+01  2e-01  2e-01  2e-02\n",
      " 5:  1.1708e+01  1.1677e+01  7e-02  3e-02  6e-03\n",
      " 6:  1.1734e+01  1.1725e+01  2e-02  8e-03  2e-03\n",
      " 7:  1.1742e+01  1.1741e+01  2e-03  6e-04  2e-04\n",
      " 8:  1.1742e+01  1.1742e+01  2e-04  5e-05  1e-05\n",
      " 9:  1.1742e+01  1.1742e+01  5e-05  1e-05  4e-06\n",
      "10:  1.1742e+01  1.1742e+01  8e-06  2e-06  8e-07\n",
      "11:  1.1742e+01  1.1742e+01  5e-07  2e-07  5e-08\n",
      "12:  1.1742e+01  1.1742e+01  8e-09  3e-09  8e-10\n",
      "Optimal solution found.\n",
      "(array([[ -7.75896683,  -4.01775089,   9.09431785],\n",
      "       [  7.09364637,   2.79560289,   8.25692455],\n",
      "       [ 15.14441268,  28.16831564,  11.43780999],\n",
      "       ..., \n",
      "       [  5.5172301 ,   7.42594575,   7.00681661],\n",
      "       [  4.67126917,   3.9066593 ,   3.99883356],\n",
      "       [  5.75939985,   7.17807903,   6.15125811]]), array([[-54.06206238,   3.73061864,  23.58699917],\n",
      "       [-10.02825164,   6.9617292 , -46.89509206],\n",
      "       [  1.48802178, -58.12673024,  -1.67029864],\n",
      "       [ 37.65618158,   9.02383079,  11.58425508]]), 125802.44639677192, array([[ 0.01778927,  0.00075504,  0.00128841],\n",
      "       [ 0.00075504,  0.02066957,  0.0007219 ],\n",
      "       [ 0.00128841,  0.0007219 ,  0.02176675]]), array([ 0.12187321,  0.20681477,  0.08426021]), array([ 0.01778927,  0.00075504,  0.02066957,  0.00128841,  0.0007219 ,\n",
      "        0.02176675,  0.12187321,  0.20681477,  0.08426021]))\n"
     ]
    }
   ],
   "source": [
    "out = get_partition(samples)\n",
    "\n",
    "print(out)\n",
    "\n",
    "\n"
   ]
  },
  {
   "cell_type": "code",
   "execution_count": null,
   "metadata": {
    "collapsed": false
   },
   "outputs": [],
   "source": [
    "\n",
    "def get_total_partition(xarray, EllipsoidSolver=EllipsoidSolver):\n",
    "    \"\"\"\n",
    "    Compute outliers in sequance for all points.\n",
    "    \n",
    "    in\n",
    "    --\n",
    "    xarray    - array shaped (M, d) for M samples of d-dimensional vecs\n",
    "\n",
    "    out\n",
    "    ---\n",
    "    xin_list    - list of partitions \n",
    "    xout_list   - \n",
    "    volumes     - array of ellipsoid volumes\n",
    "    A_arrs      - A_arrs define the covarience of ellipse\n",
    "    b_vecs      - b_vecs define the center of the ellipse\n",
    "    Fe          - The interface to CVXOPT\n",
    "    \n",
    "    \"\"\"\n",
    "    \n",
    "    # Define an interface to cvxopt\n",
    "    Fe = FEllipsoid(xarray)\n",
    "    Mstart = Fe.M\n",
    "    \n",
    "    \n",
    "    # Initialize output\n",
    "    xout_list = []\n",
    "    xin_list = []\n",
    "    pstars = sp.zeros((Fe.M,))\n",
    "    A_arrs = sp.zeros((Fe.M, Fe.ndim, Fe.ndim))\n",
    "    b_vecs = sp.zeros((Fe.M, Fe.ndim))\n",
    "    \n",
    "    \n",
    "    # Loop until the set of points has been partitioned\n",
    "    for i in range(Mstart):\n",
    "        \n",
    "        # Get the next ellipse\n",
    "        astar, pstar, A, b = get_optimal_ellipse(Fe)\n",
    "    \n",
    "        # Separate points\n",
    "        xin, xout = xinxout(Fe, A, b)\n",
    "        \n",
    "        # Make a new ellipsoid solver\n",
    "        Fe = FEllipsoid(xin, a0=astar)\n",
    "        \n",
    "        # Store data for output\n",
    "        xout_list.append(xout)\n",
    "        xin_list.append(xin)\n",
    "        pstars[i] = pstar\n",
    "        A_arrs[i, :, :] = A\n",
    "        b_vecs[i, :] = b\n",
    "        \n",
    "        if xin.shape[0] < Mstart / 2.0:\n",
    "            ibound = i + 1            \n",
    "            break\n",
    "    \n",
    "        \n",
    "    # Prepare output\n",
    "    pstars = pstars[:ibound]\n",
    "    A_arrs = A_arrs[:ibound, :, :]\n",
    "    b_vecs = b_vecs[:ibound, :]\n",
    "    \n",
    "    return xin_list, xout_list, pstars, A_arrs, b_vecs\n",
    "\n"
   ]
  },
  {
   "cell_type": "code",
   "execution_count": null,
   "metadata": {
    "collapsed": false
   },
   "outputs": [],
   "source": []
  },
  {
   "cell_type": "code",
   "execution_count": null,
   "metadata": {
    "collapsed": false,
    "scrolled": false
   },
   "outputs": [],
   "source": []
  },
  {
   "cell_type": "code",
   "execution_count": null,
   "metadata": {
    "collapsed": false
   },
   "outputs": [],
   "source": []
  },
  {
   "cell_type": "code",
   "execution_count": null,
   "metadata": {
    "collapsed": false
   },
   "outputs": [],
   "source": []
  },
  {
   "cell_type": "code",
   "execution_count": null,
   "metadata": {
    "collapsed": false
   },
   "outputs": [],
   "source": []
  },
  {
   "cell_type": "code",
   "execution_count": null,
   "metadata": {
    "collapsed": false
   },
   "outputs": [],
   "source": []
  },
  {
   "cell_type": "code",
   "execution_count": null,
   "metadata": {
    "collapsed": true
   },
   "outputs": [],
   "source": [
    "\n"
   ]
  },
  {
   "cell_type": "code",
   "execution_count": null,
   "metadata": {
    "collapsed": false
   },
   "outputs": [],
   "source": []
  },
  {
   "cell_type": "code",
   "execution_count": null,
   "metadata": {
    "collapsed": true
   },
   "outputs": [],
   "source": []
  },
  {
   "cell_type": "code",
   "execution_count": null,
   "metadata": {
    "collapsed": false
   },
   "outputs": [],
   "source": []
  },
  {
   "cell_type": "markdown",
   "metadata": {},
   "source": []
  },
  {
   "cell_type": "code",
   "execution_count": null,
   "metadata": {
    "collapsed": true
   },
   "outputs": [],
   "source": [
    "\n"
   ]
  },
  {
   "cell_type": "code",
   "execution_count": null,
   "metadata": {
    "collapsed": false
   },
   "outputs": [],
   "source": []
  },
  {
   "cell_type": "code",
   "execution_count": null,
   "metadata": {
    "collapsed": true
   },
   "outputs": [],
   "source": []
  },
  {
   "cell_type": "code",
   "execution_count": null,
   "metadata": {
    "collapsed": true
   },
   "outputs": [],
   "source": []
  },
  {
   "cell_type": "code",
   "execution_count": null,
   "metadata": {
    "collapsed": false
   },
   "outputs": [],
   "source": []
  },
  {
   "cell_type": "markdown",
   "metadata": {},
   "source": [
    "## Solve for the minimum volume ellipsoid containing all the points\n"
   ]
  },
  {
   "cell_type": "code",
   "execution_count": null,
   "metadata": {
    "collapsed": false,
    "scrolled": false
   },
   "outputs": [],
   "source": []
  },
  {
   "cell_type": "markdown",
   "metadata": {},
   "source": [
    "# Make a plot showing min. vol ellipsoid"
   ]
  },
  {
   "cell_type": "code",
   "execution_count": null,
   "metadata": {
    "collapsed": false
   },
   "outputs": [],
   "source": [
    "\n"
   ]
  },
  {
   "cell_type": "markdown",
   "metadata": {},
   "source": [
    "# Determine candidats for removal"
   ]
  },
  {
   "cell_type": "code",
   "execution_count": null,
   "metadata": {
    "collapsed": false
   },
   "outputs": [],
   "source": [
    "\n"
   ]
  },
  {
   "cell_type": "code",
   "execution_count": null,
   "metadata": {
    "collapsed": false
   },
   "outputs": [],
   "source": [
    "def plot_xinxout(xin, xout, Ainv, b):\n",
    "    \"Make a 3D scatter plot with some data\"\n",
    "    \n",
    "    \n",
    "    # Make a 3D figure\n",
    "    fig = plt.figure()\n",
    "    ax = fig.add_subplot(1,1,1, projection='3d')\n",
    "    ax.scatter(xin[:,0], xin[:,1], xin[:,2], marker='.')\n",
    "    ax.scatter(xout[:,0], xout[:,1], xout[:,2], marker='o', c='r')\n",
    "\n",
    "    \n",
    "    ## Get points on a sphere\n",
    "    thetas = sp.linspace(100*EPS, (1.0-100*EPS) * sp.pi, 20)\n",
    "    phis = sp.linspace(0.0, 2*sp.pi, 20)\n",
    "\n",
    "    TT, PP = sp.meshgrid(thetas, phis, indexing='ij')\n",
    "\n",
    "    xx = sp.cos(PP) * sp.sin(TT)\n",
    "    yy = sp.sin(PP) * sp.sin(TT)\n",
    "    zz = sp.cos(TT)\n",
    "\n",
    "\n",
    "    Ainv_xx = Ainv[:,0, None, None] * (xx - b[None, None, 0])\n",
    "    Ainv_yy = Ainv[:,1, None, None] * (yy - b[None, None, 1])\n",
    "    Ainv_zz = Ainv[:,2, None, None] * (zz - b[None, None, 2])\n",
    "\n",
    "    xyz_ellipse = Ainv_xx + Ainv_yy + Ainv_zz\n",
    "    xe = xyz_ellipse[0]\n",
    "    ye = xyz_ellipse[1]\n",
    "    ze = xyz_ellipse[2]\n",
    "\n",
    "    \n",
    "    ax.plot_wireframe(xe, ye, ze, linewidth=0.1)\n",
    "    \n",
    "    \n",
    "    return fig\n",
    "    \n",
    "    "
   ]
  },
  {
   "cell_type": "code",
   "execution_count": null,
   "metadata": {
    "collapsed": true
   },
   "outputs": [],
   "source": []
  },
  {
   "cell_type": "code",
   "execution_count": null,
   "metadata": {
    "collapsed": false
   },
   "outputs": [],
   "source": []
  },
  {
   "cell_type": "code",
   "execution_count": null,
   "metadata": {
    "collapsed": false,
    "scrolled": false
   },
   "outputs": [],
   "source": [
    "out = get_total_partition(samples)"
   ]
  },
  {
   "cell_type": "code",
   "execution_count": null,
   "metadata": {
    "collapsed": false
   },
   "outputs": [],
   "source": [
    "xins, xouts, ps, As, bs = out[:]"
   ]
  },
  {
   "cell_type": "code",
   "execution_count": null,
   "metadata": {
    "collapsed": false
   },
   "outputs": [],
   "source": [
    "plt.semilogy(ps)"
   ]
  },
  {
   "cell_type": "code",
   "execution_count": null,
   "metadata": {
    "collapsed": true
   },
   "outputs": [],
   "source": [
    "nout = [len(_xout) for _xout in xouts]\n",
    "nin = [len(_xin) for _xin in xins]"
   ]
  },
  {
   "cell_type": "code",
   "execution_count": null,
   "metadata": {
    "collapsed": false,
    "scrolled": true
   },
   "outputs": [],
   "source": [
    "zip(nin, nout)"
   ]
  },
  {
   "cell_type": "code",
   "execution_count": null,
   "metadata": {
    "collapsed": true
   },
   "outputs": [],
   "source": []
  },
  {
   "cell_type": "code",
   "execution_count": null,
   "metadata": {
    "collapsed": false,
    "scrolled": false
   },
   "outputs": [],
   "source": [
    "for i in range(len(xins))[:20]: #[0, 1, 2, 3, 10, 20]:\n",
    "    fig = plot_xinxout(xins[i], xouts[i], la.inv(As[i]), bs[i])"
   ]
  },
  {
   "cell_type": "code",
   "execution_count": null,
   "metadata": {
    "collapsed": true
   },
   "outputs": [],
   "source": []
  },
  {
   "cell_type": "code",
   "execution_count": null,
   "metadata": {
    "collapsed": true
   },
   "outputs": [],
   "source": []
  },
  {
   "cell_type": "code",
   "execution_count": null,
   "metadata": {
    "collapsed": true
   },
   "outputs": [],
   "source": []
  },
  {
   "cell_type": "code",
   "execution_count": null,
   "metadata": {
    "collapsed": true
   },
   "outputs": [],
   "source": []
  },
  {
   "cell_type": "code",
   "execution_count": null,
   "metadata": {
    "collapsed": true
   },
   "outputs": [],
   "source": []
  },
  {
   "cell_type": "code",
   "execution_count": null,
   "metadata": {
    "collapsed": true
   },
   "outputs": [],
   "source": []
  },
  {
   "cell_type": "code",
   "execution_count": null,
   "metadata": {
    "collapsed": true
   },
   "outputs": [],
   "source": []
  },
  {
   "cell_type": "code",
   "execution_count": null,
   "metadata": {
    "collapsed": true
   },
   "outputs": [],
   "source": []
  },
  {
   "cell_type": "code",
   "execution_count": null,
   "metadata": {
    "collapsed": true
   },
   "outputs": [],
   "source": []
  },
  {
   "cell_type": "code",
   "execution_count": null,
   "metadata": {
    "collapsed": true
   },
   "outputs": [],
   "source": []
  },
  {
   "cell_type": "code",
   "execution_count": null,
   "metadata": {
    "collapsed": true
   },
   "outputs": [],
   "source": []
  },
  {
   "cell_type": "code",
   "execution_count": null,
   "metadata": {
    "collapsed": true
   },
   "outputs": [],
   "source": []
  },
  {
   "cell_type": "code",
   "execution_count": null,
   "metadata": {
    "collapsed": true
   },
   "outputs": [],
   "source": []
  },
  {
   "cell_type": "code",
   "execution_count": null,
   "metadata": {
    "collapsed": true
   },
   "outputs": [],
   "source": []
  },
  {
   "cell_type": "code",
   "execution_count": null,
   "metadata": {
    "collapsed": true
   },
   "outputs": [],
   "source": []
  },
  {
   "cell_type": "code",
   "execution_count": null,
   "metadata": {
    "collapsed": true
   },
   "outputs": [],
   "source": []
  },
  {
   "cell_type": "code",
   "execution_count": null,
   "metadata": {
    "collapsed": true
   },
   "outputs": [],
   "source": []
  }
 ],
 "metadata": {
  "kernelspec": {
   "display_name": "Python 2",
   "language": "python",
   "name": "python2"
  },
  "language_info": {
   "codemirror_mode": {
    "name": "ipython",
    "version": 2
   },
   "file_extension": ".py",
   "mimetype": "text/x-python",
   "name": "python",
   "nbconvert_exporter": "python",
   "pygments_lexer": "ipython2",
   "version": "2.7.11"
  }
 },
 "nbformat": 4,
 "nbformat_minor": 0
}
